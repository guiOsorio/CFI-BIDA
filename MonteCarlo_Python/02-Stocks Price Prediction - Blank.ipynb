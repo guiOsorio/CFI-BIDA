{
 "cells": [
  {
   "cell_type": "markdown",
   "metadata": {},
   "source": [
    "# Stock Price Prediction Model"
   ]
  },
  {
   "cell_type": "markdown",
   "metadata": {},
   "source": [
    "### Import Packages"
   ]
  },
  {
   "cell_type": "code",
   "execution_count": null,
   "metadata": {},
   "outputs": [],
   "source": [
    "# Install yfinance (Yahoo Finance market data downloader) \n",
    "!pip install yfinance"
   ]
  },
  {
   "cell_type": "code",
   "execution_count": null,
   "metadata": {},
   "outputs": [],
   "source": [
    "# Import external packages\n"
   ]
  },
  {
   "cell_type": "markdown",
   "metadata": {},
   "source": [
    "### Observations - Extract Data from Yahoo Finance"
   ]
  },
  {
   "cell_type": "code",
   "execution_count": null,
   "metadata": {},
   "outputs": [],
   "source": [
    "# Extract data from Yahoo Finance\n",
    "\n",
    "\n",
    "# Plot MSFT closing prices\n"
   ]
  },
  {
   "cell_type": "markdown",
   "metadata": {},
   "source": [
    "### Distributions - Calculate Historical Returns and Statistical Measures"
   ]
  },
  {
   "cell_type": "code",
   "execution_count": null,
   "metadata": {},
   "outputs": [],
   "source": [
    "# Calculate historical log returns\n",
    "\n",
    "\n",
    "# Show all the log returns\n",
    "\n",
    "\n",
    "# Show the distribution of the log returns\n"
   ]
  },
  {
   "cell_type": "code",
   "execution_count": null,
   "metadata": {},
   "outputs": [],
   "source": [
    "# Calculate key statistic measures\n"
   ]
  },
  {
   "cell_type": "markdown",
   "metadata": {},
   "source": [
    "### Simulations - Simulate Future Daily Returns and Future Prices"
   ]
  },
  {
   "cell_type": "code",
   "execution_count": null,
   "metadata": {},
   "outputs": [],
   "source": [
    "# How to generate 10,000 random numbers betwen 0 and 1.\n",
    "\n",
    "\n",
    "# Use those randomly generated numbers to sample from a normal distribution\n",
    "\n",
    "\n",
    "# Plot each of the 10,000 randombly generated numbers from the normal distribution\n"
   ]
  },
  {
   "cell_type": "code",
   "execution_count": null,
   "metadata": {},
   "outputs": [],
   "source": [
    "# Simulate future daily returns using the above method\n"
   ]
  },
  {
   "cell_type": "code",
   "execution_count": null,
   "metadata": {},
   "outputs": [],
   "source": [
    "# Using returns, calculate future price progression in each simulation\n",
    "\n",
    "# Latest known stock price for MSFT\n",
    "\n",
    "\n",
    "# Prepare an array for the price simulations\n",
    "\n",
    "\n",
    "# Set the first row to the starting stock price\n"
   ]
  },
  {
   "cell_type": "code",
   "execution_count": null,
   "metadata": {},
   "outputs": [],
   "source": [
    "# Apply a for loop for simulated prices\n",
    "\n",
    "\n",
    "# Plot simulated future MSFT prices\n"
   ]
  },
  {
   "cell_type": "markdown",
   "metadata": {},
   "source": [
    "### Including Drift"
   ]
  },
  {
   "cell_type": "code",
   "execution_count": null,
   "metadata": {},
   "outputs": [],
   "source": [
    "# Calculate drift\n",
    "\n",
    "\n",
    "# Simulate future daily returns\n"
   ]
  },
  {
   "cell_type": "code",
   "execution_count": null,
   "metadata": {},
   "outputs": [],
   "source": [
    "# Create a variable for the latest price of MSFT\n",
    "\n",
    "\n",
    "# Prepare an array for the price simulations\n",
    "\n",
    "\n",
    "# Set the first row to the starting stock price\n",
    "\n",
    "\n",
    "# Apply a for loop for simulated prices\n",
    "\n",
    "\n",
    "# Plot simulated future MSFT prices\n"
   ]
  },
  {
   "cell_type": "markdown",
   "metadata": {},
   "source": [
    "### Quantifications - Examine the worst, average, best scenarios and the probability distribution"
   ]
  },
  {
   "cell_type": "code",
   "execution_count": null,
   "metadata": {},
   "outputs": [],
   "source": [
    "# Calculate worst, avg and best scenarios\n",
    "\n",
    "\n",
    "# Examine the worst, average, and best stock price sceanrios\n",
    "\n",
    "\n",
    "# Set up confidence intervals\n",
    "\n",
    "\n",
    "# Print out the price range within the confidence intervals\n"
   ]
  }
 ],
 "metadata": {
  "kernelspec": {
   "display_name": "Python 3",
   "language": "python",
   "name": "python3"
  },
  "language_info": {
   "codemirror_mode": {
    "name": "ipython",
    "version": 3
   },
   "file_extension": ".py",
   "mimetype": "text/x-python",
   "name": "python",
   "nbconvert_exporter": "python",
   "pygments_lexer": "ipython3",
   "version": "3.7.3"
  }
 },
 "nbformat": 4,
 "nbformat_minor": 2
}
