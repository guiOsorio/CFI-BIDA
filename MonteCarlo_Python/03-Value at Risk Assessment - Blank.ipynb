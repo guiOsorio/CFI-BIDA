{
 "cells": [
  {
   "cell_type": "markdown",
   "metadata": {
    "id": "DhABxXGGG41q"
   },
   "source": [
    "# Value at Risk Assessment Model"
   ]
  },
  {
   "cell_type": "markdown",
   "metadata": {
    "id": "2RPdfXEEG41t"
   },
   "source": [
    "### Import Packages"
   ]
  },
  {
   "cell_type": "code",
   "execution_count": null,
   "metadata": {
    "id": "vfRHja5xG41u"
   },
   "outputs": [],
   "source": [
    "# Import packages\n"
   ]
  },
  {
   "cell_type": "markdown",
   "metadata": {
    "id": "d5W6RwdIG41v"
   },
   "source": [
    "### Distributions - Set Up Stock Parameters"
   ]
  },
  {
   "cell_type": "code",
   "execution_count": null,
   "metadata": {
    "id": "S4lUCx5nG41v"
   },
   "outputs": [],
   "source": [
    "# Number of shares\n",
    "\n",
    "\n",
    "# Live stock price\n"
   ]
  },
  {
   "cell_type": "markdown",
   "metadata": {
    "id": "TnYmv1i5G41v"
   },
   "source": [
    "30-day Historical volatility source: https://www.alphaquery.com/stock/MSFT/volatility-option-statistics/30-day/historical-volatility"
   ]
  },
  {
   "cell_type": "code",
   "execution_count": null,
   "metadata": {
    "id": "76xj8cmqG41v"
   },
   "outputs": [],
   "source": [
    "# Investment value\n",
    "\n",
    "\n",
    "# Risk free rate (4-week treasury bill rate)\n",
    "\n",
    "\n",
    "# Volatility (30-day volatility at that time)\n"
   ]
  },
  {
   "cell_type": "markdown",
   "metadata": {
    "id": "0RRGdvW5G41w"
   },
   "source": [
    "### Simulations - Calculate Investment Returns"
   ]
  },
  {
   "cell_type": "code",
   "execution_count": null,
   "metadata": {
    "id": "EhL5ICKPG41w"
   },
   "outputs": [],
   "source": [
    "# Number of simulations\n",
    "\n",
    "\n",
    "# Investment time in a year\n"
   ]
  },
  {
   "cell_type": "code",
   "execution_count": null,
   "metadata": {
    "id": "Ta7hVoQ7G41w"
   },
   "outputs": [],
   "source": [
    "# Explain np.random.standard_normal\n"
   ]
  },
  {
   "cell_type": "code",
   "execution_count": null,
   "metadata": {
    "id": "0_f89juWG41x"
   },
   "outputs": [],
   "source": [
    "# Create a function to calculate the returns of the investment\n",
    "\n",
    "\n",
    "# Apply the VaR function to simulate the returns\n"
   ]
  },
  {
   "cell_type": "markdown",
   "metadata": {
    "id": "v8wA9yxHG41x"
   },
   "source": [
    "### Quantifications - Identify VaR at 90%, 95%, and 99% Confidence Level"
   ]
  },
  {
   "cell_type": "code",
   "execution_count": null,
   "metadata": {
    "id": "6-QygAyMG41x"
   },
   "outputs": [],
   "source": [
    "# Explain string formatting\n",
    "# Print: VaR at x% confidence level: $y.\n"
   ]
  },
  {
   "cell_type": "code",
   "execution_count": null,
   "metadata": {
    "id": "KxCc8t0yG41x"
   },
   "outputs": [],
   "source": [
    "# Plot the returns\n",
    "\n",
    "\n",
    "# Show VaR at 90%, 95%, and 99% confidence level\n"
   ]
  }
 ],
 "metadata": {
  "colab": {
   "name": "03-Value at Risk Assessment-Blank.ipynb",
   "provenance": []
  },
  "kernelspec": {
   "display_name": "Python 3",
   "language": "python",
   "name": "python3"
  },
  "language_info": {
   "codemirror_mode": {
    "name": "ipython",
    "version": 3
   },
   "file_extension": ".py",
   "mimetype": "text/x-python",
   "name": "python",
   "nbconvert_exporter": "python",
   "pygments_lexer": "ipython3",
   "version": "3.7.3"
  }
 },
 "nbformat": 4,
 "nbformat_minor": 1
}
