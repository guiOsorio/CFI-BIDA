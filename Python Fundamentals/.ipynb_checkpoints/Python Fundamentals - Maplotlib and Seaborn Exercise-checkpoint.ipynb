{
 "cells": [
  {
   "cell_type": "markdown",
   "metadata": {
    "id": "SFVfKqOsXTGp"
   },
   "source": [
    "# Maplotlib and Seaborn Exercise Solutions"
   ]
  },
  {
   "cell_type": "markdown",
   "metadata": {
    "id": "oGZZt_1bXTGq"
   },
   "source": [
    "### Exercise 1\n",
    "- Import numpy, pandas, matplotlib.pyplot, and seaborn\n",
    "- Import the file \"Loan_Home.csv\" into a pandas dataframe\n",
    "- Show all the columns in the dataframe"
   ]
  },
  {
   "cell_type": "code",
   "execution_count": null,
   "metadata": {
    "executionInfo": {
     "elapsed": 1352,
     "status": "ok",
     "timestamp": 1612062900452,
     "user": {
      "displayName": "Lester Leong",
      "photoUrl": "https://lh3.googleusercontent.com/a-/AOh14GhESsAP_U-p-CX8EsBjBg4EszjEo6Qb0zr-LMf14g=s64",
      "userId": "17427307644910609596"
     },
     "user_tz": 360
    },
    "id": "AHJS0wL4XTGq"
   },
   "outputs": [],
   "source": []
  },
  {
   "cell_type": "markdown",
   "metadata": {
    "id": "RBmYiM8AXTGr"
   },
   "source": [
    "### Exercise 2\n",
    "Use matplotlib to create a scatter plot that include the data from \"ApplicantIncome\" column and \"LoanAmount\" column:\n",
    "- Set the chart size to be 12,8\n",
    "- Name the scatter plot \"Home Loan Analysis\"\n",
    "- Name the x axis \"Applicant Income\" and the y axis \"LoanAmount\""
   ]
  },
  {
   "cell_type": "code",
   "execution_count": null,
   "metadata": {
    "id": "i5bcN3gqXTGs",
    "outputId": "edaa7e7a-e761-40bc-f133-a4a203c95947"
   },
   "outputs": [],
   "source": []
  },
  {
   "cell_type": "markdown",
   "metadata": {
    "id": "KLEnbJ68XTGs"
   },
   "source": [
    "### Exercise 3\n",
    "Use Seaborn to create a histogram chart for the data in the \"ApplicantIncome\" column:\n",
    "- Distrubute the data into 8 bins\n",
    "- Set the bins to be purple\n",
    "- Remove the Guassian kernel "
   ]
  },
  {
   "cell_type": "code",
   "execution_count": null,
   "metadata": {
    "colab": {
     "base_uri": "https://localhost:8080/",
     "height": 350
    },
    "executionInfo": {
     "elapsed": 446,
     "status": "ok",
     "timestamp": 1612063027048,
     "user": {
      "displayName": "Lester Leong",
      "photoUrl": "https://lh3.googleusercontent.com/a-/AOh14GhESsAP_U-p-CX8EsBjBg4EszjEo6Qb0zr-LMf14g=s64",
      "userId": "17427307644910609596"
     },
     "user_tz": 360
    },
    "id": "6hJ9ligqcXtt",
    "outputId": "aed42218-e746-468a-ab2b-634a56b6ef29"
   },
   "outputs": [],
   "source": []
  },
  {
   "cell_type": "markdown",
   "metadata": {
    "id": "YEg6NxF_XTGt"
   },
   "source": [
    "### Exercise 4\n",
    "Use seaborn to create a bar plot to examine the total \"LoanAmount\" grouped by \"Property_Area\". Set the color pallette as \"bright\"."
   ]
  },
  {
   "cell_type": "code",
   "execution_count": null,
   "metadata": {
    "id": "ndYOycmNXTGt",
    "outputId": "085b7a74-37cd-4e82-979f-c391a3340d7a"
   },
   "outputs": [],
   "source": []
  },
  {
   "cell_type": "markdown",
   "metadata": {
    "id": "WY5lJmjhXTGt"
   },
   "source": [
    "### Exercise 5\n",
    "Use seaborn to create a box plot for the \"LoanAmount\" data grouped by \"Education\". "
   ]
  },
  {
   "cell_type": "code",
   "execution_count": null,
   "metadata": {
    "id": "JtEBlSoEXTGt",
    "outputId": "b8970915-1185-4fd7-9b8a-b14aa019e62d"
   },
   "outputs": [],
   "source": []
  }
 ],
 "metadata": {
  "colab": {
   "collapsed_sections": [],
   "name": "Python Fundamentals - Maplotlib and Seaborn Exercise Solutions.ipynb",
   "provenance": []
  },
  "kernelspec": {
   "display_name": "Python 3 (ipykernel)",
   "language": "python",
   "name": "python3"
  },
  "language_info": {
   "codemirror_mode": {
    "name": "ipython",
    "version": 3
   },
   "file_extension": ".py",
   "mimetype": "text/x-python",
   "name": "python",
   "nbconvert_exporter": "python",
   "pygments_lexer": "ipython3",
   "version": "3.9.7"
  }
 },
 "nbformat": 4,
 "nbformat_minor": 1
}
