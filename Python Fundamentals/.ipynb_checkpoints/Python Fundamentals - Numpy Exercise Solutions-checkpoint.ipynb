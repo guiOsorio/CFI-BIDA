{
 "cells": [
  {
   "cell_type": "markdown",
   "metadata": {
    "id": "w2WphtiuXT9J"
   },
   "source": [
    "# Numpy Exercise Solutions"
   ]
  },
  {
   "cell_type": "markdown",
   "metadata": {
    "id": "RJ8ITy-mXT9K"
   },
   "source": [
    "### Exercise 1\n",
    "Import Numpy. Create a numpy array called Array_A that includes the following values: a three dimensional array with these values [1,2,3,4], [5,6,7,8], and [9,10,11,12]. Print the array and print the third item in the second row of the array."
   ]
  },
  {
   "cell_type": "code",
   "execution_count": 1,
   "metadata": {
    "id": "2Kf298xjXT9M",
    "outputId": "8a8667b7-d50b-4557-cd0f-1b4a0b3b88b4"
   },
   "outputs": [
    {
     "name": "stdout",
     "output_type": "stream",
     "text": [
      "[[ 1  2  3  4]\n",
      " [ 5  6  7  8]\n",
      " [ 9 10 11 12]]\n",
      "7\n"
     ]
    }
   ],
   "source": [
    "import numpy as np\n",
    "\n",
    "Array_A = np.array([[1,2,3,4],[5,6,7,8],[9,10,11,12]])\n",
    "print (Array_A)\n",
    "print (Array_A [1,2])"
   ]
  },
  {
   "cell_type": "markdown",
   "metadata": {
    "id": "6UFAMHH3XT9N"
   },
   "source": [
    "### Exercise 2 \n",
    "Print the shape of Array_A, and reshape it to be 6 columns and 2 rows."
   ]
  },
  {
   "cell_type": "code",
   "execution_count": null,
   "metadata": {
    "id": "8XA9x0PNXT9N",
    "outputId": "7fd11fd6-6d94-4326-d860-147a954da1d2"
   },
   "outputs": [
    {
     "data": {
      "text/plain": [
       "(3, 4)"
      ]
     },
     "execution_count": 2,
     "metadata": {
      "tags": []
     },
     "output_type": "execute_result"
    }
   ],
   "source": [
    "Array_A.shape"
   ]
  },
  {
   "cell_type": "code",
   "execution_count": null,
   "metadata": {
    "id": "b2rUm3DDXT9O",
    "outputId": "64531869-4cf6-4e20-9bd6-7c67ee17ecf2"
   },
   "outputs": [
    {
     "data": {
      "text/plain": [
       "array([[ 1,  2,  3,  4,  5,  6],\n",
       "       [ 7,  8,  9, 10, 11, 12]])"
      ]
     },
     "execution_count": 3,
     "metadata": {
      "tags": []
     },
     "output_type": "execute_result"
    }
   ],
   "source": [
    "Array_A.reshape(2,6)"
   ]
  },
  {
   "cell_type": "markdown",
   "metadata": {
    "id": "asT70b5oXT9P"
   },
   "source": [
    "### Exercise 3 \n",
    "Create Array_B with 5 rows and 3 columns. The values in the array are integers ranging from -75 to 75. Print the whole array. Then check the values in the array and see which ones are above 0."
   ]
  },
  {
   "cell_type": "code",
   "execution_count": null,
   "metadata": {
    "id": "NUGI0EkeXT9P",
    "outputId": "565763bc-d484-49ec-caf6-d1cfe43f715d"
   },
   "outputs": [
    {
     "name": "stdout",
     "output_type": "stream",
     "text": [
      "[[ 44 -40 -27]\n",
      " [ 14  66  34]\n",
      " [-37 -18 -47]\n",
      " [-15  66  17]\n",
      " [ -9  25  25]]\n",
      "[[ True False False]\n",
      " [ True  True  True]\n",
      " [False False False]\n",
      " [False  True  True]\n",
      " [False  True  True]]\n"
     ]
    }
   ],
   "source": [
    "Array_B = np.random.randint(-75,75,(5,3))\n",
    "print(Array_B)\n",
    "print(Array_B>0)"
   ]
  },
  {
   "cell_type": "markdown",
   "metadata": {
    "id": "w9G3vZdxXT9Q"
   },
   "source": [
    "### Exercise 4\n",
    "Create Array_C with 4 random floats. Use the seed function to make sure you get the same values everytime you run the code. Print the whole array, and then print the values that are above or equal to 0.5."
   ]
  },
  {
   "cell_type": "code",
   "execution_count": null,
   "metadata": {
    "id": "DVP2uVyEXT9Q",
    "outputId": "d1d07098-fdc5-41f2-8812-ad0dfb6895e5"
   },
   "outputs": [
    {
     "name": "stdout",
     "output_type": "stream",
     "text": [
      "[0.77132064 0.02075195 0.63364823 0.74880388]\n",
      "[0.77132064 0.63364823 0.74880388]\n"
     ]
    }
   ],
   "source": [
    "np.random.seed(10)\n",
    "Array_C = np.random.rand(4)\n",
    "print(Array_C)\n",
    "print(Array_C[Array_C>=0.5])"
   ]
  }
 ],
 "metadata": {
  "colab": {
   "collapsed_sections": [],
   "name": "Python Fundamentals - Numpy Exercise Solutions.ipynb",
   "provenance": []
  },
  "kernelspec": {
   "display_name": "Python 3 (ipykernel)",
   "language": "python",
   "name": "python3"
  },
  "language_info": {
   "codemirror_mode": {
    "name": "ipython",
    "version": 3
   },
   "file_extension": ".py",
   "mimetype": "text/x-python",
   "name": "python",
   "nbconvert_exporter": "python",
   "pygments_lexer": "ipython3",
   "version": "3.9.7"
  }
 },
 "nbformat": 4,
 "nbformat_minor": 1
}
