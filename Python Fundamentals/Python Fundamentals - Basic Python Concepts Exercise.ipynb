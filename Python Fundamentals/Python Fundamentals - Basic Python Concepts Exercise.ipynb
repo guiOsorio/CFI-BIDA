{
 "cells": [
  {
   "cell_type": "markdown",
   "metadata": {
    "id": "OymmdOdWXRH9"
   },
   "source": [
    "# Basic Python Concepts Exercise"
   ]
  },
  {
   "cell_type": "markdown",
   "metadata": {
    "id": "ZKafkNviXRID"
   },
   "source": [
    "### Exercise 1\n",
    "Assign variable x = 10 and variable y = \"hello\" in one line, and print them out in one line."
   ]
  },
  {
   "cell_type": "code",
   "execution_count": 1,
   "metadata": {
    "id": "kYCjfhAGXRID",
    "outputId": "8835f677-3c01-438e-d36f-51693542fed4"
   },
   "outputs": [
    {
     "name": "stdout",
     "output_type": "stream",
     "text": [
      "10 hello\n"
     ]
    }
   ],
   "source": [
    "x, y = (10, 'hello)\n",
    "\n",
    "print(x, y)"
   ]
  },
  {
   "cell_type": "markdown",
   "metadata": {
    "id": "sISeVixaXRIE"
   },
   "source": [
    "### Exercise 2 \n",
    "Print the types of the following data in one code block:\n",
    "\n",
    "- 5 < 7\n",
    "- 'True'\n",
    "- 35.8\n",
    "- 26"
   ]
  },
  {
   "cell_type": "code",
   "execution_count": 3,
   "metadata": {
    "id": "daDX_HEGXRIE",
    "outputId": "f9a7d49c-dfab-4535-964b-da31d3eab819"
   },
   "outputs": [
    {
     "name": "stdout",
     "output_type": "stream",
     "text": [
      "<class 'bool'>\n",
      "<class 'str'>\n",
      "<class 'float'>\n",
      "<class 'int'>\n"
     ]
    }
   ],
   "source": [
    "print(type(5 < 7))\n",
    "print(type('True'))\n",
    "print(type(35.8))\n",
    "print(type(26))"
   ]
  },
  {
   "cell_type": "markdown",
   "metadata": {
    "id": "87S6IZHCXRIF"
   },
   "source": [
    "### Exercise 3 \n",
    "Use math operations the calculate the following and print out the results\n",
    "- 4 to the power of 6\n",
    "- The remainder of 379 divided by 11\n",
    "- 19 divided by 3, convert the result to an integer"
   ]
  },
  {
   "cell_type": "code",
   "execution_count": 5,
   "metadata": {
    "colab": {
     "base_uri": "https://localhost:8080/"
    },
    "executionInfo": {
     "elapsed": 357,
     "status": "ok",
     "timestamp": 1612063715869,
     "user": {
      "displayName": "Lester Leong",
      "photoUrl": "https://lh3.googleusercontent.com/a-/AOh14GhESsAP_U-p-CX8EsBjBg4EszjEo6Qb0zr-LMf14g=s64",
      "userId": "17427307644910609596"
     },
     "user_tz": 360
    },
    "id": "ZX5BEWJ7egvI",
    "outputId": "1aca696d-2d1f-41fd-a8ff-49bf9bc81b67"
   },
   "outputs": [
    {
     "name": "stdout",
     "output_type": "stream",
     "text": [
      "4096\n",
      "5\n",
      "6\n"
     ]
    }
   ],
   "source": [
    "print(4**6)\n",
    "print(379%11)\n",
    "print(int(19/3))"
   ]
  },
  {
   "cell_type": "markdown",
   "metadata": {
    "id": "fVxKD5x2XRIG"
   },
   "source": [
    "### Exercise 4 \n",
    "Use math operations to assign variable a = 14 x 2, b = 20 + 3, c = 9 x 7. Use logical operations and comparison operations to find out wheter:\n",
    "- a does not equal to b and b does not eqaul to c\n",
    "- a is larger than b or b is larger than c\n",
    "- a is larger than c and b is smaller than c"
   ]
  },
  {
   "cell_type": "code",
   "execution_count": 7,
   "metadata": {
    "id": "jiIffrRTXRIG",
    "outputId": "bf8454fc-4e35-477e-c462-450cfedd913c"
   },
   "outputs": [
    {
     "name": "stdout",
     "output_type": "stream",
     "text": [
      "True\n",
      "True\n",
      "False\n"
     ]
    }
   ],
   "source": [
    "a, b, c = (14 * 2, 20 + 3, 9 * 7)\n",
    "\n",
    "print(a != b and b != c)\n",
    "print(a > b or b > c)\n",
    "print(a > c and b < c)"
   ]
  },
  {
   "cell_type": "markdown",
   "metadata": {
    "id": "FVc-0W5EXRIG"
   },
   "source": [
    "### Exercise 5 \n",
    "Use the same variables a, b, c from the last exercise and use Python's build-in functions to find out:\n",
    "- the largest value\n",
    "- the smallest value\n",
    "- the total of the 3 values"
   ]
  },
  {
   "cell_type": "code",
   "execution_count": 9,
   "metadata": {
    "id": "NW5XQ9efXRIG",
    "outputId": "da1e4557-84fe-4d4d-922a-ef1fac431071"
   },
   "outputs": [
    {
     "name": "stdout",
     "output_type": "stream",
     "text": [
      "63\n",
      "23\n",
      "114\n"
     ]
    }
   ],
   "source": [
    "print(max(a,b,c))\n",
    "print(min(a,b,c))\n",
    "print(sum([a,b,c]))"
   ]
  },
  {
   "cell_type": "markdown",
   "metadata": {
    "id": "O9syw_4IXRIH"
   },
   "source": [
    "### Exercise 6 \n",
    "Use the built-in functions to complete the following:\n",
    "- find the absolute value of -798\n",
    "- round 5.29486 to 2 decimal places\n",
    "- count how many items are in the list: 58, 7, True, 16, \"value\", 72"
   ]
  },
  {
   "cell_type": "code",
   "execution_count": 11,
   "metadata": {
    "id": "eWZKHzzMXRIH",
    "outputId": "96e9d8a3-2051-4bcd-f0e2-0d17fa91772b"
   },
   "outputs": [
    {
     "name": "stdout",
     "output_type": "stream",
     "text": [
      "798\n",
      "5.29\n",
      "6\n"
     ]
    }
   ],
   "source": [
    "print(abs(-798))\n",
    "print(round(5.29486, 2))\n",
    "print(len([58,7,True,16,'value',72]))"
   ]
  },
  {
   "cell_type": "code",
   "execution_count": null,
   "metadata": {},
   "outputs": [],
   "source": []
  }
 ],
 "metadata": {
  "colab": {
   "collapsed_sections": [],
   "name": "Python Fundamentals - Basic Python Concepts Exercise Solutions.ipynb",
   "provenance": []
  },
  "kernelspec": {
   "display_name": "Python 3 (ipykernel)",
   "language": "python",
   "name": "python3"
  },
  "language_info": {
   "codemirror_mode": {
    "name": "ipython",
    "version": 3
   },
   "file_extension": ".py",
   "mimetype": "text/x-python",
   "name": "python",
   "nbconvert_exporter": "python",
   "pygments_lexer": "ipython3",
   "version": "3.9.7"
  }
 },
 "nbformat": 4,
 "nbformat_minor": 1
}
